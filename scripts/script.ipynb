{
 "cells": [
  {
   "cell_type": "code",
   "execution_count": 3,
   "metadata": {},
   "outputs": [],
   "source": [
    "import glob\n",
    "import pandas as pd\n",
    "import re"
   ]
  },
  {
   "cell_type": "code",
   "execution_count": 4,
   "metadata": {},
   "outputs": [],
   "source": [
    "path = \"./data/*.csv\" # make sure this path is relevant to your directory setup (this is for mine)\n",
    "                      # I had all the StructXXXX files in a folder called data\n",
    "                      # '*.csv' just means grab any file with the csv extension.\n",
    "\n",
    "p = re.compile('[0-9]+') # regex stuff: looks for numbers only\n",
    "\n",
    "for fname in glob.glob(path): # loop through directory and grab csv files\n",
    "                              # NOTE: glob doesn't pull in files in a replicable order, \n",
    "                              # doesn't matter for our purposes but just a note.\n",
    "    \n",
    "    m = p.search(fname) # search for numbers in the filename (the struct id)\n",
    "    \n",
    "    df = pd.read_csv(fname) # read in csv file for manipulative purposes\n",
    "\n",
    "    df['Structure_Num'] = m.group() # create a new column called \"Structure_Num\",\n",
    "                                    # m.group() groups all the numbers found in the filename,\n",
    "                                    # it outputs the structure ID as a string\n",
    "    \n",
    "    df.to_csv(fname, index=False)   # here we're saving the changes we made to the data,\n",
    "                                    # back into the same file (effectively overwriting it)\n",
    "                                    # NOTE: you may want to create temp files instead of overwriting\n",
    "                                    # in that case just change 'fname' to your own csv file path\n",
    "    "
   ]
  },
  {
   "cell_type": "code",
   "execution_count": 5,
   "metadata": {},
   "outputs": [],
   "source": []
  }
 ],
 "metadata": {
  "kernelspec": {
   "display_name": "Python 3",
   "language": "python",
   "name": "python3"
  },
  "language_info": {
   "codemirror_mode": {
    "name": "ipython",
    "version": 3
   },
   "file_extension": ".py",
   "mimetype": "text/x-python",
   "name": "python",
   "nbconvert_exporter": "python",
   "pygments_lexer": "ipython3",
   "version": "3.8.5"
  }
 },
 "nbformat": 4,
 "nbformat_minor": 4
}
