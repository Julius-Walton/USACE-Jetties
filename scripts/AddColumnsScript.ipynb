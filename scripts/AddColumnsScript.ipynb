{
 "cells": [
  {
   "cell_type": "code",
   "execution_count": 3,
   "metadata": {},
   "outputs": [],
   "source": [
    "# ATTENTION: YOU MUST USE THIS SCRIPT WITH CSV FILES THAT HAVE\n",
    "# ALREADY HAD THE STRUCTURE_NUM COLUMN APPENDED TO IT.\n",
    "# \n",
    "# i.e. run the other script first before running this one on it."
   ]
  },
  {
   "cell_type": "code",
   "execution_count": 1,
   "metadata": {},
   "outputs": [],
   "source": [
    "import glob\n",
    "import pandas as pd\n",
    "import numpy as np"
   ]
  },
  {
   "cell_type": "code",
   "execution_count": 2,
   "metadata": {},
   "outputs": [],
   "source": [
    "path = \"./DDDATA/*.csv\" # make sure this path is relevant to your directory setup (this is for mine)\n",
    "                      # I had all the StructXXXX files in a folder called data\n",
    "                      # '*.csv' just means grab any file with the csv extension.\n",
    "\n",
    "for fname in glob.glob(path): # loop through directory and grab csv files\n",
    "                              # NOTE: glob doesn't pull in files in a replicable order, \n",
    "                              # doesn't matter for our purposes but just a note,\n",
    "    df = pd.read_csv(fname) # read in csv file for manipulative purposes\n",
    "    columnCount = len(df.columns) # grab the count of the columns initially\n",
    "    columnsToAdd = 0              # set variable to keep track of how many columns need to be added.\n",
    "    if(columnCount < 71):         # if columnCount is less than 71 (i.e. doesn't have up to shiptype22)\n",
    "        columnsToAdd = ((71 - columnCount) / 3) # set columnsToAdd to the difference between 71 and columnCount divided by 3\n",
    "                                                # effectively giving us how many times we need to add a set of shiptype columns\n",
    "\n",
    "    for i in range(int(columnsToAdd), 0, -1):   #loop decrementally from columnsToAdd to 0 (not including 0)\n",
    "        df.insert((columnCount-1), (\"SHIPTYPE\" + str(i+(int(22-columnsToAdd))) + \"_UNQNUM\"), np.nan) #append the relevant columns\n",
    "        df.insert((columnCount-1), (\"SHIPTYPE\" + str(i+(int(22-columnsToAdd))) + \"_NUM\"), np.nan)    # \" \n",
    "        df.insert((columnCount-1), (\"SHIPTYPE\" + str(i+(int(22-columnsToAdd)))), np.nan)             # \"\n",
    "    df.to_csv(fname, index=False) #export the dataframe back to csv at the same filepath.\n",
    "    "
   ]
  }
 ],
 "metadata": {
  "kernelspec": {
   "display_name": "Python 3",
   "language": "python",
   "name": "python3"
  },
  "language_info": {
   "codemirror_mode": {
    "name": "ipython",
    "version": 3
   },
   "file_extension": ".py",
   "mimetype": "text/x-python",
   "name": "python",
   "nbconvert_exporter": "python",
   "pygments_lexer": "ipython3",
   "version": "3.8.5"
  }
 },
 "nbformat": 4,
 "nbformat_minor": 4
}
